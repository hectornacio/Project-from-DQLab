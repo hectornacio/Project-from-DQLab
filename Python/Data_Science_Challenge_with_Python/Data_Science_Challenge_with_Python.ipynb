{
 "cells": [
  {
   "cell_type": "markdown",
   "id": "6f71bdd9",
   "metadata": {},
   "source": [
    "Mentor: CT Corp\n",
    "\n",
    "# DESKRIPSI\n",
    "Project ini adalah salah satu project yang terdapat di DQLab dan merupakan bagian dari proses pembelajaran saya di platform DQLab. DQLab adalah salah satu platform kursus data science di Indonesia.\n",
    "\n",
    "### Apa saja yang dibahas dalam project ini?\n",
    "Project ini berupa tes terkait kemampuan data science yang terdiri atas empat tes, yaitu:\n",
    "1. Tes Probabilitas, yang dirancang untuk memperlihatkan kemampuan member dalam mengkoseptualisasikan pengetahuan dalam bidang probabilitas.\n",
    "2. Tes Statistik, yang dirancang untuk memperlihatkan pengetahuan member terkait dasar-dasar ilmu statistik.\n",
    "3. Tes Interpretasi Model, yang dirancang untuk memperlihatkan kemampuan member dalam memberikan insight/kesimpulan dan pengambilan keputusan pendukung terkait dengan model yang dibangun melalui penerapan data science.\n",
    "4. Tes Pemograman, yang dirancang untuk memperlihatkan kemampuan member dalam menrepakan logical thinking (berfikir logis) melalui kode-kode program yang ditanyakan. Bahasa pemrograman yang digunakan adalah Python.\n",
    "\n",
    "# Chapter 1\n",
    "## Tantangan Pemrograman Python\n",
    "### Dict data type!\n",
    "Tuliskanlah kode python di code editor yang akan menyatukan tiga dictionary berikut:\n",
    "dic1 = {1:10, 2:20}\n",
    "dic2 = {3:30, 4:40}\n",
    "dic3 = {5:50, 6:60}\n",
    "menjadi satu dictionary dalam dic4"
   ]
  },
  {
   "cell_type": "code",
   "execution_count": 1,
   "id": "c41a78f5",
   "metadata": {
    "collapsed": true
   },
   "outputs": [
    {
     "name": "stdout",
     "output_type": "stream",
     "text": [
      "{1: 10, 2: 20, 3: 30, 4: 40, 5: 50, 6: 60}\n"
     ]
    }
   ],
   "source": [
    "dic1 = {1:10, 2:20}\n",
    "dic2 = {3:30, 4:40}\n",
    "dic3 = {5:50, 6:60}\n",
    "dic4 = {}\n",
    "for x in (dic1, dic2, dic3):\n",
    "    dic4.update(x)\n",
    "print(dic4)"
   ]
  },
  {
   "cell_type": "markdown",
   "id": "9b28824f",
   "metadata": {},
   "source": [
    "### Jumlah 7 Deret Pertama Fibonacci\n",
    "Tulislah sebuah fungsi Python yang digunakan untuk menghitung n deret pertama Fibonacci yang dimulai dari 0.\n",
    "\n",
    "Input  :  n = 7\n",
    "\n",
    "Output :  33"
   ]
  },
  {
   "cell_type": "code",
   "execution_count": 2,
   "id": "574c6789",
   "metadata": {
    "collapsed": true
   },
   "outputs": [
    {
     "name": "stdout",
     "output_type": "stream",
     "text": [
      "33\n"
     ]
    }
   ],
   "source": [
    "# Buat fungsi penjumlahan deret Fibonacci\n",
    "def calculateSum(n):\n",
    "    if n <= 0:\n",
    "        return 0\n",
    "    fibo = [0] * (n + 1)\n",
    "    fibo[1] = 1\n",
    "    # Initialisasi hasil ke dalam variabel sm\n",
    "    sm = fibo[0] + fibo[1]\n",
    "    # Tambahkan suku-suku berikutnya\n",
    "    for i in range(2, n + 1):\n",
    "        fibo[i] = fibo[i - 1] + fibo[i - 2]\n",
    "        sm += fibo[i]\n",
    "    return sm\n",
    "# Evaluasi hasil deret untuk n = 7    \n",
    "print(calculateSum(7))"
   ]
  },
  {
   "cell_type": "markdown",
   "id": "697d7e29",
   "metadata": {},
   "source": [
    "-------------------------------------------------------------------------------------------------------------------------------\n",
    "Tentang saya, silakan kunjungi: \n",
    "- rpubs: https://rpubs.com/ikanurfitriani/\n",
    "- github: https://github.com/ikanurfitriani\n",
    "- linkedin: https://linkedin.com/in/ikanurfitriani\n",
    "- medium: https://medium.com/@ikanurfitriani"
   ]
  }
 ],
 "metadata": {
  "kernelspec": {
   "display_name": "Python 3 (ipykernel)",
   "language": "python",
   "name": "python3"
  },
  "language_info": {
   "codemirror_mode": {
    "name": "ipython",
    "version": 3
   },
   "file_extension": ".py",
   "mimetype": "text/x-python",
   "name": "python",
   "nbconvert_exporter": "python",
   "pygments_lexer": "ipython3",
   "version": "3.9.12"
  }
 },
 "nbformat": 4,
 "nbformat_minor": 5
}
